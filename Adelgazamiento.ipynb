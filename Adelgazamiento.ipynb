{
 "cells": [
  {
   "cell_type": "code",
   "execution_count": 21,
   "metadata": {},
   "outputs": [
    {
     "output_type": "stream",
     "name": "stdout",
     "text": [
      "2.7.17\n"
     ]
    }
   ],
   "source": [
    "# Check version inside your Python program\n",
    "from platform import python_version\n",
    "print(python_version())"
   ]
  },
  {
   "cell_type": "code",
   "execution_count": 22,
   "metadata": {},
   "outputs": [],
   "source": [
    "import cv2\n",
    "import numpy as np\n",
    "import skimage\n",
    "from matplotlib import pyplot as plt"
   ]
  },
  {
   "cell_type": "code",
   "execution_count": 26,
   "metadata": {
    "tags": []
   },
   "outputs": [
    {
     "output_type": "display_data",
     "data": {
      "image/png": "[encoded data removed]",
      "text/plain": "<Figure size 720x360 with 2 Axes>",
      "image/svg+xml": "<?xml version=\"1.0\" encoding=\"utf-8\" standalone=\"no\"?>\n<!DOCTYPE svg PUBLIC \"-//W3C//DTD SVG 1.1//EN\"\n  \"http://www.w3.org/Graphics/SVG/1.1/DTD/svg11.dtd\">\n<!-- Created with matplotlib (http://matplotlib.org/) -->\n<svg height=\"299.832614pt\" version=\"1.1\" viewBox=\"0 0 595.625 299.832614\" width=\"595.625pt\" xmlns=\"http://www.w3.org/2000/svg\" xmlns:xlink=\"http://www.w3.org/1999/xlink\">\n <defs>\n  <style type=\"text/css\">\n*{stroke-linecap:butt;stroke-linejoin:round;}\n  </style>\n </defs>\n <g id=\"figure_1\">\n  <g id=\"patch_1\">\n   <path d=\"M 0 299.832614 \nL 595.625 299.832614 \nL 595.625 0 \nL 0 0 \nz\n\" style=\"fill:none;\"/>\n  </g>\n  <g id=\"axes_1\">\n   <g clip-path=\"url(#pc418c0a2b6)\">\n    <image height=\"254\" id=\"image9b7976fcdf\" transform=\"scale(1 -1)translate(0 -254)\" width=\"254\" x=\"26.925\" xlink:href=\"data:image/png;base64,\niVBORw0KGgoAAAANSUhEUgAAAP4AAAD+CAYAAAAalrhRAAAABHNCSVQICAgIfAhkiAAAAw5JREFUeJzt1cENgDAQBDGC6L/lo4kAEmMXsMlndGtm5gBSzq8/ALxP+BAkfAgSPgQJH4KED0HChyDhQ5DwIUj4ECR8CBI+BAkfgoQPQcKHIOFDkPAhSPgQJHwIEj4ECR+ChA9Bwocg4UOQ8CFI+BAkfAgSPgQJH4KED0HChyDhQ5DwIUj4ECR8CBI+BAkfgq6dY2utnXPwWzPz6fsuPgQJH4KED0HChyDhQ5DwIUj4ECR8CBI+BAkfgoQPQcKHIOFDkPAhSPgQJHwIEj4ECR+ChA9Bwocg4UOQ8CFI+BAkfAgSPgQJH4KED0HChyDhQ5DwIUj4ECR8CBI+BAkfgoQPQcKHIOFDkPAhSPgQJHwIEj4ECR+ChA9Bwocg4UOQ8CFI+BAkfAgSPgQJH4KED0HChyDhQ5DwIUj4ECR8CBI+BAkfgoQPQcKHIOFDkPAhSPgQJHwIEj4ECR+ChA9Bwocg4UOQ8CFI+BAkfAgSPgQJH4KED0HChyDhQ5DwIUj4ECR8CBI+BAkfgoQPQcKHIOFDkPAhSPgQJHwIEj4ECR+ChA9Bwocg4UOQ8CFI+BAkfAgSPgQJH4KED0HChyDhQ5DwIUj4ECR8CBI+BAkfgoQPQcKHIOFDkPAhSPgQJHwIEj4ECR+ChA9Bwocg4UOQ8CFI+BAkfAgSPgQJH4KED0HChyDhQ5DwIUj4ECR8CBI+BAkfgoQPQcKHIOFDkPAhSPgQJHwIEj4ECR+ChA9Bwocg4UOQ8CFI+BAkfAgSPgQJH4KED0HChyDhQ5DwIUj4ECR8CBI+BAkfgoQPQcKHIOFDkPAhSPgQJHwIEj4ECR+ChA9Bwocg4UOQ8CFI+BAkfAgSPgQJH4KED0HChyDhQ5DwIUj4ECR8CBI+BAkfgoQPQcKHIOFDkPAhSPgQJHwIEj4ECR+ChA9Bwocg4UOQ8CHo2jk2MzvngIe4+BAkfAgSPgQJH4KED0HChyDhQ5DwIUj4ECR8CBI+BAkfgoQPQcKHIOFDkPAhSPgQJHwIEj4ECR+ChA9Bwocg4UOQ8CHoBpObC/kYNz/bAAAAAElFTkSuQmCC\" y=\"-21.954489\"/>\n   </g>\n   <g id=\"text_1\">\n    <!-- Umbralizada -->\n    <defs>\n     <path d=\"M 8.6875 72.90625 \nL 18.609375 72.90625 \nL 18.609375 28.609375 \nQ 18.609375 16.890625 22.84375 11.734375 \nQ 27.09375 6.59375 36.625 6.59375 \nQ 46.09375 6.59375 50.34375 11.734375 \nQ 54.59375 16.890625 54.59375 28.609375 \nL 54.59375 72.90625 \nL 64.5 72.90625 \nL 64.5 27.390625 \nQ 64.5 13.140625 57.4375 5.859375 \nQ 50.390625 -1.421875 36.625 -1.421875 \nQ 22.796875 -1.421875 15.734375 5.859375 \nQ 8.6875 13.140625 8.6875 27.390625 \nz\n\" id=\"DejaVuSans-55\"/>\n     <path d=\"M 52 44.1875 \nQ 55.375 50.25 60.0625 53.125 \nQ 64.75 56 71.09375 56 \nQ 79.640625 56 84.28125 50.015625 \nQ 88.921875 44.046875 88.921875 33.015625 \nL 88.921875 0 \nL 79.890625 0 \nL 79.890625 32.71875 \nQ 79.890625 40.578125 77.09375 44.375 \nQ 74.3125 48.1875 68.609375 48.1875 \nQ 61.625 48.1875 57.5625 43.546875 \nQ 53.515625 38.921875 53.515625 30.90625 \nL 53.515625 0 \nL 44.484375 0 \nL 44.484375 32.71875 \nQ 44.484375 40.625 41.703125 44.40625 \nQ 38.921875 48.1875 33.109375 48.1875 \nQ 26.21875 48.1875 22.15625 43.53125 \nQ 18.109375 38.875 18.109375 30.90625 \nL 18.109375 0 \nL 9.078125 0 \nL 9.078125 54.6875 \nL 18.109375 54.6875 \nL 18.109375 46.1875 \nQ 21.1875 51.21875 25.484375 53.609375 \nQ 29.78125 56 35.6875 56 \nQ 41.65625 56 45.828125 52.96875 \nQ 50 49.953125 52 44.1875 \nz\n\" id=\"DejaVuSans-6d\"/>\n     <path d=\"M 48.6875 27.296875 \nQ 48.6875 37.203125 44.609375 42.84375 \nQ 40.53125 48.484375 33.40625 48.484375 \nQ 26.265625 48.484375 22.1875 42.84375 \nQ 18.109375 37.203125 18.109375 27.296875 \nQ 18.109375 17.390625 22.1875 11.75 \nQ 26.265625 6.109375 33.40625 6.109375 \nQ 40.53125 6.109375 44.609375 11.75 \nQ 48.6875 17.390625 48.6875 27.296875 \nz\nM 18.109375 46.390625 \nQ 20.953125 51.265625 25.265625 53.625 \nQ 29.59375 56 35.59375 56 \nQ 45.5625 56 51.78125 48.09375 \nQ 58.015625 40.1875 58.015625 27.296875 \nQ 58.015625 14.40625 51.78125 6.484375 \nQ 45.5625 -1.421875 35.59375 -1.421875 \nQ 29.59375 -1.421875 25.265625 0.953125 \nQ 20.953125 3.328125 18.109375 8.203125 \nL 18.109375 0 \nL 9.078125 0 \nL 9.078125 75.984375 \nL 18.109375 75.984375 \nz\n\" id=\"DejaVuSans-62\"/>\n     <path d=\"M 41.109375 46.296875 \nQ 39.59375 47.171875 37.8125 47.578125 \nQ 36.03125 48 33.890625 48 \nQ 26.265625 48 22.1875 43.046875 \nQ 18.109375 38.09375 18.109375 28.8125 \nL 18.109375 0 \nL 9.078125 0 \nL 9.078125 54.6875 \nL 18.109375 54.6875 \nL 18.109375 46.1875 \nQ 20.953125 51.171875 25.484375 53.578125 \nQ 30.03125 56 36.53125 56 \nQ 37.453125 56 38.578125 55.875 \nQ 39.703125 55.765625 41.0625 55.515625 \nz\n\" id=\"DejaVuSans-72\"/>\n     <path d=\"M 34.28125 27.484375 \nQ 23.390625 27.484375 19.1875 25 \nQ 14.984375 22.515625 14.984375 16.5 \nQ 14.984375 11.71875 18.140625 8.90625 \nQ 21.296875 6.109375 26.703125 6.109375 \nQ 34.1875 6.109375 38.703125 11.40625 \nQ 43.21875 16.703125 43.21875 25.484375 \nL 43.21875 27.484375 \nz\nM 52.203125 31.203125 \nL 52.203125 0 \nL 43.21875 0 \nL 43.21875 8.296875 \nQ 40.140625 3.328125 35.546875 0.953125 \nQ 30.953125 -1.421875 24.3125 -1.421875 \nQ 15.921875 -1.421875 10.953125 3.296875 \nQ 6 8.015625 6 15.921875 \nQ 6 25.140625 12.171875 29.828125 \nQ 18.359375 34.515625 30.609375 34.515625 \nL 43.21875 34.515625 \nL 43.21875 35.40625 \nQ 43.21875 41.609375 39.140625 45 \nQ 35.0625 48.390625 27.6875 48.390625 \nQ 23 48.390625 18.546875 47.265625 \nQ 14.109375 46.140625 10.015625 43.890625 \nL 10.015625 52.203125 \nQ 14.9375 54.109375 19.578125 55.046875 \nQ 24.21875 56 28.609375 56 \nQ 40.484375 56 46.34375 49.84375 \nQ 52.203125 43.703125 52.203125 31.203125 \nz\n\" id=\"DejaVuSans-61\"/>\n     <path d=\"M 9.421875 75.984375 \nL 18.40625 75.984375 \nL 18.40625 0 \nL 9.421875 0 \nz\n\" id=\"DejaVuSans-6c\"/>\n     <path d=\"M 9.421875 54.6875 \nL 18.40625 54.6875 \nL 18.40625 0 \nL 9.421875 0 \nz\nM 9.421875 75.984375 \nL 18.40625 75.984375 \nL 18.40625 64.59375 \nL 9.421875 64.59375 \nz\n\" id=\"DejaVuSans-69\"/>\n     <path d=\"M 5.515625 54.6875 \nL 48.1875 54.6875 \nL 48.1875 46.484375 \nL 14.40625 7.171875 \nL 48.1875 7.171875 \nL 48.1875 0 \nL 4.296875 0 \nL 4.296875 8.203125 \nL 38.09375 47.515625 \nL 5.515625 47.515625 \nz\n\" id=\"DejaVuSans-7a\"/>\n     <path d=\"M 45.40625 46.390625 \nL 45.40625 75.984375 \nL 54.390625 75.984375 \nL 54.390625 0 \nL 45.40625 0 \nL 45.40625 8.203125 \nQ 42.578125 3.328125 38.25 0.953125 \nQ 33.9375 -1.421875 27.875 -1.421875 \nQ 17.96875 -1.421875 11.734375 6.484375 \nQ 5.515625 14.40625 5.515625 27.296875 \nQ 5.515625 40.1875 11.734375 48.09375 \nQ 17.96875 56 27.875 56 \nQ 33.9375 56 38.25 53.625 \nQ 42.578125 51.265625 45.40625 46.390625 \nz\nM 14.796875 27.296875 \nQ 14.796875 17.390625 18.875 11.75 \nQ 22.953125 6.109375 30.078125 6.109375 \nQ 37.203125 6.109375 41.296875 11.75 \nQ 45.40625 17.390625 45.40625 27.296875 \nQ 45.40625 37.203125 41.296875 42.84375 \nQ 37.203125 48.484375 30.078125 48.484375 \nQ 22.953125 48.484375 18.875 42.84375 \nQ 14.796875 37.203125 14.796875 27.296875 \nz\n\" id=\"DejaVuSans-64\"/>\n    </defs>\n    <g transform=\"translate(115.909432 16.318125)scale(0.12 -0.12)\">\n     <use xlink:href=\"#DejaVuSans-55\"/>\n     <use x=\"73.193359\" xlink:href=\"#DejaVuSans-6d\"/>\n     <use x=\"170.605469\" xlink:href=\"#DejaVuSans-62\"/>\n     <use x=\"234.082031\" xlink:href=\"#DejaVuSans-72\"/>\n     <use x=\"275.195312\" xlink:href=\"#DejaVuSans-61\"/>\n     <use x=\"336.474609\" xlink:href=\"#DejaVuSans-6c\"/>\n     <use x=\"364.257812\" xlink:href=\"#DejaVuSans-69\"/>\n     <use x=\"392.041016\" xlink:href=\"#DejaVuSans-7a\"/>\n     <use x=\"444.53125\" xlink:href=\"#DejaVuSans-61\"/>\n     <use x=\"505.810547\" xlink:href=\"#DejaVuSans-64\"/>\n     <use x=\"569.287109\" xlink:href=\"#DejaVuSans-61\"/>\n    </g>\n   </g>\n  </g>\n  <g id=\"axes_2\">\n   <g clip-path=\"url(#pda65d664f7)\">\n    <image height=\"254\" id=\"imagedfaa435aaa\" transform=\"scale(1 -1)translate(0 -254)\" width=\"254\" x=\"331.288636\" xlink:href=\"data:image/png;base64,\niVBORw0KGgoAAAANSUhEUgAAAP4AAAD+CAYAAAAalrhRAAAABHNCSVQICAgIfAhkiAAAA2dJREFUeJzt3EFqxDAQAEEp7P+/7BzDgrUkwuuQdNXRvvjSDIyQ5xjjGEDKx29/AHA/4UOQ8CFI+BAkfAh6rF4cx3rZP+d8y8cAa6+aXFm1auJDkPAhSPgQJHwIEj4ECR+Clsd5r+wcKwBfXh2J/7SvneN1Ex+ChA9Bwocg4UOQ8CFojo1fb622ji7vwLMrT8Cu7MvEhyDhQ5DwIUj4ECR8CNr69RbwPTub+DvaM/EhSPgQJHwIEj4ECR+ChA9BW7/echkH7nfl5TgTH4KED0HChyDhQ5DwIWhrqw+8z2pLf+XlHRMfgoQPQcKHIOFDkPAhSPgQJHwIEj4ECR+ChA9Bwocg4UOQ8CFI+BAkfAgSPgQJH4KED0HChyDhQ5DwIUj4ECR8CBI+BAkfgoQPQcKHIOFDkPAhSPgQJHwIEj4ECR+ChA9Bwocg4UOQ8CFI+BAkfAgSPgQJH4KED0HChyDhQ5DwIUj4ECR8CBI+BAkfgoQPQcKHIOFDkPAhSPgQJHwIEj4ECR+ChA9Bwocg4UOQ8CFI+BAkfAgSPgQJH4KED0HChyDhQ5DwIUj4ECR8CBI+BAkfgoQPQcKHIOFDkPAhSPgQJHwIEj4ECR+ChA9Bwocg4UOQ8CFI+BAkfAgSPgQJH4KED0HChyDhQ5DwIUj4ECR8CBI+BAkfgoQPQcKHIOFDkPAhSPgQJHwIEj4ECR+ChA9Bwocg4UOQ8CFI+BAkfAgSPgQJH4KED0HChyDhQ5DwIUj4ECR8CBI+BAkfgoQPQcKHIOFDkPAhSPgQJHwIEj4ECR+ChA9Bwocg4UOQ8CFI+BAkfAgSPgQJH4KED0HChyDhQ5DwIUj4ECR8CBI+BAkfgoQPQcKHIOFDkPAhSPgQJHwIEj4ECR+ChA9Bwocg4UOQ8CFI+BAkfAgSPgQJH4KED0HChyDhQ5DwIUj4ECR8CBI+BAkfgoQPQcKHIOFDkPAhSPgQJHwIEj4ECR+ChA9Bwocg4UOQ8CFI+BAkfAgSPgQJH4KED0HChyDhQ5DwIUj4ECR8CBI+BAkfgoQPQcKHIOFD0BxjHGcvjuP0MfCHzDlPn5v4ECR8CBI+BAkfgoQPQY+d7f1qUwjcb6dhEx+ChA9Bwocg4UOQ8CFI+BC0vKQD/F8mPgQJH4KED0HChyDhQ9AnNhEs/vRNqm0AAAAASUVORK5CYII=\" y=\"-21.954489\"/>\n   </g>\n   <g id=\"text_2\">\n    <!-- Adelgazada -->\n    <defs>\n     <path d=\"M 34.1875 63.1875 \nL 20.796875 26.90625 \nL 47.609375 26.90625 \nz\nM 28.609375 72.90625 \nL 39.796875 72.90625 \nL 67.578125 0 \nL 57.328125 0 \nL 50.6875 18.703125 \nL 17.828125 18.703125 \nL 11.1875 0 \nL 0.78125 0 \nz\n\" id=\"DejaVuSans-41\"/>\n     <path d=\"M 56.203125 29.59375 \nL 56.203125 25.203125 \nL 14.890625 25.203125 \nQ 15.484375 15.921875 20.484375 11.0625 \nQ 25.484375 6.203125 34.421875 6.203125 \nQ 39.59375 6.203125 44.453125 7.46875 \nQ 49.3125 8.734375 54.109375 11.28125 \nL 54.109375 2.78125 \nQ 49.265625 0.734375 44.1875 -0.34375 \nQ 39.109375 -1.421875 33.890625 -1.421875 \nQ 20.796875 -1.421875 13.15625 6.1875 \nQ 5.515625 13.8125 5.515625 26.8125 \nQ 5.515625 40.234375 12.765625 48.109375 \nQ 20.015625 56 32.328125 56 \nQ 43.359375 56 49.78125 48.890625 \nQ 56.203125 41.796875 56.203125 29.59375 \nz\nM 47.21875 32.234375 \nQ 47.125 39.59375 43.09375 43.984375 \nQ 39.0625 48.390625 32.421875 48.390625 \nQ 24.90625 48.390625 20.390625 44.140625 \nQ 15.875 39.890625 15.1875 32.171875 \nz\n\" id=\"DejaVuSans-65\"/>\n     <path d=\"M 45.40625 27.984375 \nQ 45.40625 37.75 41.375 43.109375 \nQ 37.359375 48.484375 30.078125 48.484375 \nQ 22.859375 48.484375 18.828125 43.109375 \nQ 14.796875 37.75 14.796875 27.984375 \nQ 14.796875 18.265625 18.828125 12.890625 \nQ 22.859375 7.515625 30.078125 7.515625 \nQ 37.359375 7.515625 41.375 12.890625 \nQ 45.40625 18.265625 45.40625 27.984375 \nz\nM 54.390625 6.78125 \nQ 54.390625 -7.171875 48.1875 -13.984375 \nQ 42 -20.796875 29.203125 -20.796875 \nQ 24.46875 -20.796875 20.265625 -20.09375 \nQ 16.0625 -19.390625 12.109375 -17.921875 \nL 12.109375 -9.1875 \nQ 16.0625 -11.328125 19.921875 -12.34375 \nQ 23.78125 -13.375 27.78125 -13.375 \nQ 36.625 -13.375 41.015625 -8.765625 \nQ 45.40625 -4.15625 45.40625 5.171875 \nL 45.40625 9.625 \nQ 42.625 4.78125 38.28125 2.390625 \nQ 33.9375 0 27.875 0 \nQ 17.828125 0 11.671875 7.65625 \nQ 5.515625 15.328125 5.515625 27.984375 \nQ 5.515625 40.671875 11.671875 48.328125 \nQ 17.828125 56 27.875 56 \nQ 33.9375 56 38.28125 53.609375 \nQ 42.625 51.21875 45.40625 46.390625 \nL 45.40625 54.6875 \nL 54.390625 54.6875 \nz\n\" id=\"DejaVuSans-67\"/>\n    </defs>\n    <g transform=\"translate(423.037756 16.318125)scale(0.12 -0.12)\">\n     <use xlink:href=\"#DejaVuSans-41\"/>\n     <use x=\"68.392578\" xlink:href=\"#DejaVuSans-64\"/>\n     <use x=\"131.869141\" xlink:href=\"#DejaVuSans-65\"/>\n     <use x=\"193.392578\" xlink:href=\"#DejaVuSans-6c\"/>\n     <use x=\"221.175781\" xlink:href=\"#DejaVuSans-67\"/>\n     <use x=\"284.652344\" xlink:href=\"#DejaVuSans-61\"/>\n     <use x=\"345.931641\" xlink:href=\"#DejaVuSans-7a\"/>\n     <use x=\"398.421875\" xlink:href=\"#DejaVuSans-61\"/>\n     <use x=\"459.701172\" xlink:href=\"#DejaVuSans-64\"/>\n     <use x=\"523.177734\" xlink:href=\"#DejaVuSans-61\"/>\n    </g>\n   </g>\n  </g>\n </g>\n <defs>\n  <clipPath id=\"pc418c0a2b6\">\n   <rect height=\"253.636364\" width=\"253.636364\" x=\"26.925\" y=\"22.318125\"/>\n  </clipPath>\n  <clipPath id=\"pda65d664f7\">\n   <rect height=\"253.636364\" width=\"253.636364\" x=\"331.288636\" y=\"22.318125\"/>\n  </clipPath>\n </defs>\n</svg>\n"
     },
     "metadata": {
      "needs_background": "light"
     }
    }
   ],
   "source": [
    "from skimage.morphology import erosion, dilation, opening, closing\n",
    "from skimage.morphology import disk\n",
    "\n",
    "image = cv2.imread('imgs/cuadrado.jpeg') ## Se lee la imagen\n",
    "image = cv2.cvtColor(image, cv2.COLOR_BGR2GRAY) ## Se pasa la imagen a un formato de escala de grises\n",
    "a,umbralized = cv2.threshold(image,128,255,cv2.THRESH_BINARY) ## Se realiza la umbralizacion de la imagen\n",
    "adelgazar_1 = adelgazar(umbralized)## Se llama por primera vez al algoritmo de adelgazamiento\n",
    "\n",
    "Fin=False\n",
    "while (Fin != True) : ## Se entra aun ciclo del que solo se sale si se ha terminado el adelgazamiento \n",
    "    adelgazar_2=adelgazar(adelgazar_1) ##Se llama nuevamente al algoritmo de adelgazamiento\n",
    "    diferencia=cv2.subtract(adelgazar_1,adelgazar_2) ##Se realiza la diferencia entre la imagen nueva y                                                         la anterior\n",
    "    adelgazar_1=adelgazar_2 ##Se actualiza la imagen anterior para una posible nueva iteracion\n",
    "    if not np.any(diferencia): ##Si las 2 imagenes, anterior y nueva son iguales se termina el algoritmo\n",
    "       break \n",
    "\n",
    "plt.figure(figsize=(10,5)) \n",
    "plt.subplot(1, 2, 1)\n",
    "plt.imshow(umbralized, cmap='gray')   # Se muestra la imagen original   \n",
    "plt.title('Umbralizada')           \n",
    "plt.axis('off') \n",
    "\n",
    "plt.subplot(1, 2, 2)\n",
    "plt.imshow(adelgazar_1, cmap='gray')   # Se muestra la imagen adelgazada   \n",
    "plt.title('Adelgazada')\n",
    "plt.axis('off')             \n",
    "\n",
    "plt.show()\n"
   ]
  },
  {
   "cell_type": "code",
   "execution_count": 27,
   "metadata": {},
   "outputs": [],
   "source": [
    "def adelgazar (imagen):\n",
    "\n",
    "    Kernel1_1= np.array ([  (0,0,0),  ## Se declaran todos los kernel, para cada iteracion, _1 es hit, _2 \n",
    "                            (0,1,0),  ## es miss\n",
    "                            (1,1,1)],np.uint8)\n",
    "\n",
    "    Kernel1_2=np.array ([   (1,1,1),\n",
    "                            (0,0,0),\n",
    "                            (0,0,0)],np.uint8)\n",
    "\n",
    "    Kernel2_1=np.array ([   (0,0,0),\n",
    "                            (1,1,0),\n",
    "                            (1,1,0)],np.uint8)\n",
    "\n",
    "    Kernel2_2=np.array ([   (0,1,1),\n",
    "                            (0,0,1),\n",
    "                            (0,0,0)],np.uint8)\n",
    "    \n",
    "    Kernel3_1=np.array ([   (1,0,0),\n",
    "                            (1,1,0),\n",
    "                            (1,0,0)],np.uint8)\n",
    "\n",
    "    Kernel3_2=np.array ([   (0,0,1),\n",
    "                            (0,0,1),\n",
    "                            (0,0,1)],np.uint8)\n",
    "\n",
    "    Kernel4_1=np.array ([   (1,1,0),\n",
    "                            (1,1,0),\n",
    "                            (0,0,0)],np.uint8)\n",
    "\n",
    "    Kernel4_2=np.array ([   (0,0,0),\n",
    "                            (0,0,1),\n",
    "                            (0,1,1)],np.uint8)\n",
    "\n",
    "    Kernel5_1=np.array ([   (1,1,1),\n",
    "                            (0,1,0),\n",
    "                            (0,0,0)],np.uint8)\n",
    "\n",
    "    Kernel5_2=np.array ([   (0,0,0),\n",
    "                            (0,0,0),\n",
    "                            (1,1,1)],np.uint8)\n",
    "\n",
    "    Kernel6_1=np.array ([   (0,1,1),\n",
    "                            (0,1,1),\n",
    "                            (0,0,0)],np.uint8)\n",
    "\n",
    "    Kernel6_2=np.array ([   (0,0,0),\n",
    "                            (1,0,0),\n",
    "                            (1,1,0)],np.uint8)\n",
    "    \n",
    "    Kernel7_1=np.array ([   (0,0,1),\n",
    "                            (0,1,1),\n",
    "                            (0,0,1)],np.uint8)\n",
    "\n",
    "    Kernel7_2=np.array ([   (1,0,0),\n",
    "                            (1,0,0),\n",
    "                            (1,0,0)],np.uint8)\n",
    "\n",
    "    Kernel8_1=np.array ([   (0,0,0),\n",
    "                            (0,1,1),\n",
    "                            (0,1,1)],np.uint8)\n",
    "\n",
    "    Kernel8_2=np.array ([   (1,1,0),\n",
    "                            (1,0,0),\n",
    "                            (0,0,0)],np.uint8)\n",
    "\n",
    "    hit_miss_01= hit_miss (imagen, Kernel1_1, Kernel1_2)  ## Se llaman las 8 iteraciones del algoritmo \n",
    "    hit_miss_02= hit_miss (hit_miss_01, Kernel2_1, Kernel2_2) ## para completarlo con cada kernel\n",
    "    hit_miss_03= hit_miss (hit_miss_02, Kernel3_1, Kernel3_2)\n",
    "    hit_miss_04= hit_miss (hit_miss_03, Kernel4_1, Kernel4_2)\n",
    "    hit_miss_05= hit_miss (hit_miss_04, Kernel5_1, Kernel5_2)\n",
    "    hit_miss_06= hit_miss (hit_miss_05, Kernel6_1, Kernel6_2)\n",
    "    hit_miss_07= hit_miss (hit_miss_06, Kernel7_1, Kernel7_2)\n",
    "    hit_miss_08= hit_miss (hit_miss_07, Kernel8_1, Kernel8_2)\n",
    "\n",
    "    return hit_miss_08      ##Se devuelve como resultado del adelgazamiento la ultima iteracion\n",
    "\n",
    "\n"
   ]
  },
  {
   "cell_type": "code",
   "execution_count": 28,
   "metadata": {},
   "outputs": [],
   "source": [
    "def hit_miss (imagen, Kernel_1, Kernel_2):\n",
    "    imagen_old = imagen\n",
    "    \n",
    "    imagen_Comp= cv2.bitwise_not(imagen) ## Se halla el complemento de la imagen\n",
    "    imagen_old = cv2.erode(imagen_old, Kernel_1) ## Se halla la erosion de la imagen con el kernel hit\n",
    "    imagen_Comp = cv2.erode(imagen_Comp, Kernel_2)## Se halla la erosion de la imagen complemento con el                                                         kernel miss\n",
    "    hit_or_miss = cv2.bitwise_and(imagen_old,imagen_Comp) ## Se halla el resultado de la operacion hit or                                                       miss, haciendo AND entre las 2 erosiones anteriores    \n",
    "    hit_or_miss_Comp = cv2.bitwise_not(hit_or_miss) ## Se halla el complemento de la operacion hit or miss\n",
    "    result = cv2.bitwise_and(imagen,hit_or_miss_Comp) ## Se realiza AND entre la imagen original y el complemento de la operacion hit or miss, este resultado sera el adelgazamiento de 1 iteracion\n",
    "    \n",
    "\n",
    "    return result"
   ]
  },
  {
   "cell_type": "code",
   "execution_count": null,
   "metadata": {},
   "outputs": [],
   "source": []
  }
 ],
 "metadata": {
  "kernelspec": {
   "name": "Python 2.7.17 64-bit",
   "display_name": "Python 2.7.17 64-bit",
   "metadata": {
    "interpreter": {
     "hash": "767d51c1340bd893661ea55ea3124f6de3c7a262a8b4abca0554b478b1e2ff90"
    }
   }
  },
  "language_info": {
   "codemirror_mode": {
    "name": "ipython",
    "version": 3
   },
   "file_extension": ".py",
   "mimetype": "text/x-python",
   "name": "python",
   "nbconvert_exporter": "python",
   "pygments_lexer": "ipython3",
   "version": "2.7.17-final"
  }
 },
 "nbformat": 4,
 "nbformat_minor": 4
}